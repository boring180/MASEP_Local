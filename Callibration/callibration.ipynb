{
 "cells": [
  {
   "cell_type": "code",
   "execution_count": 52,
   "metadata": {},
   "outputs": [],
   "source": [
    "import cv2\n",
    "import numpy as np\n",
    "import glob\n",
    "import json\n",
    "import os\n",
    "from scipy.spatial.transform import Rotation as R\n",
    "import matplotlib.pyplot as plt\n",
    "import sys\n",
    "\n",
    "sys.path.append(os.path.dirname(os.path.abspath('.')))\n",
    "import utils.frame_slicing as frame_slicing\n",
    "\n",
    "number_of_squares_x = 11\n",
    "number_of_internal_corners_x = number_of_squares_x - 1\n",
    "number_of_squares_y = 8\n",
    "number_of_internal_corners_y = number_of_squares_y - 1\n",
    "square_size = 0.023 # in meters\n",
    "cameras = ['cam2', 'cam3', 'wide', 'cam0', 'cam1']"
   ]
  },
  {
   "cell_type": "code",
   "execution_count": 53,
   "metadata": {},
   "outputs": [],
   "source": [
    "# termination criteria\n",
    "criteria = (cv2.TERM_CRITERIA_EPS + cv2.TERM_CRITERIA_MAX_ITER, 30, 0.001)\n",
    "\n",
    "# prepare object points, like (0,0,0), (1,0,0), (2,0,0) ....,(9,6,0)\n",
    "objp = np.zeros((number_of_internal_corners_x * number_of_internal_corners_y,3), np.float32)\n",
    "objp[:,:2] = np.mgrid[0:number_of_internal_corners_x,0:number_of_internal_corners_y].T.reshape(-1,2)"
   ]
  },
  {
   "cell_type": "code",
   "execution_count": 54,
   "metadata": {},
   "outputs": [],
   "source": [
    "def intrinsic_calibration(camera_name):\n",
    "    # Arrays to store object points and image points from all the images.\n",
    "    objpoints = [] # 3d point in real world space\n",
    "    imgpoints = [] # 2d points in image plane.\n",
    "\n",
    "    images = glob.glob('screen_shots/*.png')\n",
    "\n",
    "    shape = (0,0)\n",
    "\n",
    "    effective_chessboard_count = 0\n",
    "    total_chessboard_count = 0\n",
    "\n",
    "    for fname in images:\n",
    "        fname_parts = fname.split('/')[1].split('_')\n",
    "        if fname_parts[0] != camera_name:\n",
    "            continue\n",
    "        img = cv2.imread(fname)\n",
    "        gray = cv2.cvtColor(img, cv2.COLOR_BGR2GRAY)\n",
    "        shape = gray.shape[::-1]\n",
    "\n",
    "        # Find the chess board corners\n",
    "        ret, corners = cv2.findChessboardCorners(gray, (number_of_internal_corners_x,number_of_internal_corners_y), None)\n",
    "        \n",
    "        if ret == True:\n",
    "            objpoints.append(objp)\n",
    "            imgpoints.append(corners)\n",
    "            # print(f'{fname} pattern found')\n",
    "            effective_chessboard_count += 1\n",
    "        else:\n",
    "            # print(f'{fname} pattern not found')\n",
    "            pass\n",
    "            \n",
    "        total_chessboard_count += 1\n",
    "\n",
    "    if (effective_chessboard_count < 10):\n",
    "        raise ValueError(f'Not enough effective chessboard found: {effective_chessboard_count}/{total_chessboard_count}')\n",
    "\n",
    "    ret, mtx, dist, rvecs, tvecs = cv2.calibrateCamera(objpoints, imgpoints, shape, None, None)\n",
    "\n",
    "    print(f'Camera matrix: {mtx}')\n",
    "    print(f'Distortion coefficients: {dist}')\n",
    "    print(f'Effective Chessboard: {effective_chessboard_count}/{total_chessboard_count}')\n",
    "\n",
    "    with open(f'results/intrinsic_{camera_name}.json', 'w') as f:\n",
    "        json.dump({'mtx': mtx.tolist(), 'dist': dist.tolist()}, f)\n",
    "        \n",
    "    return mtx, dist"
   ]
  },
  {
   "cell_type": "code",
   "execution_count": 55,
   "metadata": {},
   "outputs": [],
   "source": [
    "def extrinsic_calibration(mtx, dist):\n",
    "\n",
    "    images = glob.glob('screen_shots/*.png')\n",
    "\n",
    "    effective_chessboard_count = 0\n",
    "    total_chessboard_count = 0\n",
    "    \n",
    "    sorted_images = []\n",
    "    \n",
    "    time_stamps = []\n",
    "    \n",
    "    rvecs = [[] for _ in range(len(cameras))]\n",
    "    tvecs = [[] for _ in range(len(cameras))]\n",
    "\n",
    "    \n",
    "    for fname in images:\n",
    "        fname_parts = fname.split('/')[1].split('_')\n",
    "        if fname_parts[1] not in time_stamps:\n",
    "            time_stamps.append(fname_parts[1])\n",
    "            \n",
    "        sorted_images[time_stamps.index(fname_parts[1])][cameras.index(fname_parts[0])] = fname\n",
    "\n",
    "    for time_stamp in time_stamps:\n",
    "        cameras_ret = False\n",
    "        for camera in cameras:\n",
    "            img = cv2.imread(sorted_images[time_stamp][camera])\n",
    "            gray = cv2.cvtColor(img, cv2.COLOR_BGR2GRAY)\n",
    "\n",
    "            # Find the chess board corners\n",
    "            ret, corners = cv2.findChessboardCorners(gray, (number_of_internal_corners_x,number_of_internal_corners_y), None)\n",
    "        \n",
    "            if ret == True:\n",
    "                corners2 = cv2.cornerSubPix(gray, corners, (11,11), (-1,-1), criteria=(cv2.TERM_CRITERIA_EPS + cv2.TERM_CRITERIA_MAX_ITER, 30, 0.001))\n",
    "                ret, rvec, tvec = cv2.solvePnP(objp, corners2, mtx, dist)\n",
    "                print(rvec)\n",
    "                print(tvec)\n",
    "                rvecs[cameras.index(camera)].append(rvec)\n",
    "                tvecs[cameras.index(camera)].append(tvec)\n",
    "            else:\n",
    "                cameras_ret = False\n",
    "            \n",
    "        if cameras_ret:\n",
    "            effective_chessboard_count += 1\n",
    "            pass\n",
    "        \n",
    "        total_chessboard_count += 1\n",
    "        \n",
    "    return rvecs, tvecs"
   ]
  },
  {
   "cell_type": "code",
   "execution_count": 56,
   "metadata": {},
   "outputs": [],
   "source": [
    "def set_origin(rvecs, tvecs):\n",
    "    for i in range(len(rvecs)):\n",
    "        rves_camera3 = rvecs[i][2]\n",
    "        tves_camera3 = tvecs[i][2]\n",
    "        \n",
    "        for j in range(len(rvecs[i])):\n",
    "            rvecs[i][j] = rvecs[i][j] - rves_camera3\n",
    "            tvecs[i][j] = tvecs[i][j] - tves_camera3\n",
    "            \n",
    "    return rvecs, tvecs"
   ]
  },
  {
   "cell_type": "code",
   "execution_count": 57,
   "metadata": {},
   "outputs": [],
   "source": [
    "def remove_outliers(rvecs, tvecs):\n",
    "    # TODO: Remove outliers\n",
    "    rvecs = np.array(rvecs)\n",
    "    tvecs = np.array(tvecs)\n",
    "    rvecs_mean = np.mean(rvecs, axis=0)\n",
    "    tvecs_mean = np.mean(tvecs, axis=0)\n",
    "    return rvecs_mean, tvecs_mean"
   ]
  },
  {
   "cell_type": "code",
   "execution_count": 58,
   "metadata": {},
   "outputs": [],
   "source": [
    "def visualize(rvec, tvec):\n",
    "    fig = plt.figure(figsize=(15, 10))\n",
    "    ax = fig.add_subplot(2, 3, 1, projection='3d')\n",
    "    for i in range(len(rvec)):\n",
    "        orientation = np.array([1, 0, 0]) @ R.from_euler('xyz', rvec[i], degrees=False).as_matrix()\n",
    "        ax.quiver(tvec[i][0], tvec[i][1], tvec[i][2], orientation[0], orientation[1], orientation[2], 'red', length=0.1)\n",
    "        \n",
    "    return fig"
   ]
  },
  {
   "cell_type": "code",
   "execution_count": 61,
   "metadata": {},
   "outputs": [],
   "source": [
    "images = glob.glob('screen_shots/*.png')\n",
    "\n",
    "for image in images:\n",
    "    image_name = image.split('/')[1]\n",
    "    img = cv2.imread(image)\n",
    "    frame1, frame2, frame3, frame4, frame5, frame6 = frame_slicing.slicing_frame(img)\n",
    "    cv2.imwrite(f\"screen_shots/cam2_{image_name}\", frame1)\n",
    "    cv2.imwrite(f\"screen_shots/cam3_{image_name}\", frame2)\n",
    "    cv2.imwrite(f\"screen_shots/widecam_{image_name}\", frame3)\n",
    "    cv2.imwrite(f\"screen_shots/cam0_{image_name}\", frame4)\n",
    "    cv2.imwrite(f\"screen_shots/cam1_{image_name}\", frame5)"
   ]
  },
  {
   "cell_type": "code",
   "execution_count": 60,
   "metadata": {},
   "outputs": [
    {
     "ename": "ValueError",
     "evalue": "Not enough effective chessboard found: 0/0",
     "output_type": "error",
     "traceback": [
      "\u001b[0;31m---------------------------------------------------------------------------\u001b[0m",
      "\u001b[0;31mValueError\u001b[0m                                Traceback (most recent call last)",
      "Cell \u001b[0;32mIn[60], line 5\u001b[0m\n\u001b[1;32m      2\u001b[0m dist \u001b[38;5;241m=\u001b[39m np\u001b[38;5;241m.\u001b[39mzeros((\u001b[38;5;28mlen\u001b[39m(cameras), \u001b[38;5;241m5\u001b[39m))\n\u001b[1;32m      4\u001b[0m \u001b[38;5;28;01mfor\u001b[39;00m camera \u001b[38;5;129;01min\u001b[39;00m cameras:\n\u001b[0;32m----> 5\u001b[0m     mtx_cam, dist_cam \u001b[38;5;241m=\u001b[39m \u001b[43mintrinsic_calibration\u001b[49m\u001b[43m(\u001b[49m\u001b[43mcamera\u001b[49m\u001b[43m)\u001b[49m\n\u001b[1;32m      6\u001b[0m     mtx[cameras\u001b[38;5;241m.\u001b[39mindex(camera), :, :] \u001b[38;5;241m=\u001b[39m mtx_cam[\u001b[38;5;241m0\u001b[39m]\n\u001b[1;32m      7\u001b[0m     dist[cameras\u001b[38;5;241m.\u001b[39mindex(camera), :] \u001b[38;5;241m=\u001b[39m dist_cam[\u001b[38;5;241m0\u001b[39m]\n",
      "Cell \u001b[0;32mIn[54], line 36\u001b[0m, in \u001b[0;36mintrinsic_calibration\u001b[0;34m(camera_name)\u001b[0m\n\u001b[1;32m     33\u001b[0m     total_chessboard_count \u001b[38;5;241m+\u001b[39m\u001b[38;5;241m=\u001b[39m \u001b[38;5;241m1\u001b[39m\n\u001b[1;32m     35\u001b[0m \u001b[38;5;28;01mif\u001b[39;00m (effective_chessboard_count \u001b[38;5;241m<\u001b[39m \u001b[38;5;241m10\u001b[39m):\n\u001b[0;32m---> 36\u001b[0m     \u001b[38;5;28;01mraise\u001b[39;00m \u001b[38;5;167;01mValueError\u001b[39;00m(\u001b[38;5;124mf\u001b[39m\u001b[38;5;124m'\u001b[39m\u001b[38;5;124mNot enough effective chessboard found: \u001b[39m\u001b[38;5;132;01m{\u001b[39;00meffective_chessboard_count\u001b[38;5;132;01m}\u001b[39;00m\u001b[38;5;124m/\u001b[39m\u001b[38;5;132;01m{\u001b[39;00mtotal_chessboard_count\u001b[38;5;132;01m}\u001b[39;00m\u001b[38;5;124m'\u001b[39m)\n\u001b[1;32m     38\u001b[0m ret, mtx, dist, rvecs, tvecs \u001b[38;5;241m=\u001b[39m cv2\u001b[38;5;241m.\u001b[39mcalibrateCamera(objpoints, imgpoints, shape, \u001b[38;5;28;01mNone\u001b[39;00m, \u001b[38;5;28;01mNone\u001b[39;00m)\n\u001b[1;32m     40\u001b[0m \u001b[38;5;28mprint\u001b[39m(\u001b[38;5;124mf\u001b[39m\u001b[38;5;124m'\u001b[39m\u001b[38;5;124mCamera matrix: \u001b[39m\u001b[38;5;132;01m{\u001b[39;00mmtx\u001b[38;5;132;01m}\u001b[39;00m\u001b[38;5;124m'\u001b[39m)\n",
      "\u001b[0;31mValueError\u001b[0m: Not enough effective chessboard found: 0/0"
     ]
    }
   ],
   "source": [
    "mtx = np.zeros((len(cameras), 3, 3))\n",
    "dist = np.zeros((len(cameras), 5))\n",
    "\n",
    "for camera in cameras:\n",
    "    mtx_cam, dist_cam = intrinsic_calibration(camera)\n",
    "    mtx[cameras.index(camera), :, :] = mtx_cam[0]\n",
    "    dist[cameras.index(camera), :] = dist_cam[0]"
   ]
  },
  {
   "cell_type": "code",
   "execution_count": null,
   "metadata": {},
   "outputs": [],
   "source": [
    "rvecs, tvecs = extrinsic_calibration(mtx, dist)\n",
    "rvecs, tvecs = set_origin(rvecs, tvecs)\n",
    "rvec, tvec = remove_outliers(rvecs, tvecs)\n",
    "with open(f'results/extrinsic.json', 'w') as f:\n",
    "    json.dump({'rvecs': rvecs.tolist(), 'tvecs': tvecs.tolist()}, f)\n",
    "fig = visualize(rvec, tvec)\n",
    "plt.show()"
   ]
  }
 ],
 "metadata": {
  "kernelspec": {
   "display_name": "underwater_tracking",
   "language": "python",
   "name": "python3"
  },
  "language_info": {
   "codemirror_mode": {
    "name": "ipython",
    "version": 3
   },
   "file_extension": ".py",
   "mimetype": "text/x-python",
   "name": "python",
   "nbconvert_exporter": "python",
   "pygments_lexer": "ipython3",
   "version": "3.8.20"
  }
 },
 "nbformat": 4,
 "nbformat_minor": 2
}
