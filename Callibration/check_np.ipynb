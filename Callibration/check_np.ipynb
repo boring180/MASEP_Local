{
 "cells": [
  {
   "cell_type": "code",
   "execution_count": 24,
   "id": "1c47f022",
   "metadata": {},
   "outputs": [],
   "source": [
    "import pickle"
   ]
  },
  {
   "cell_type": "code",
   "execution_count": 25,
   "id": "21b667e0",
   "metadata": {},
   "outputs": [],
   "source": [
    "extrinsic_cam0 = pickle.load(open('results/extrinsic_cam0.pkl', 'rb'))\n",
    "extrinsic_cam1 = pickle.load(open('results/extrinsic_cam1.pkl', 'rb'))\n",
    "extrinsic_cam2 = pickle.load(open('results/extrinsic_cam2.pkl', 'rb'))\n"
   ]
  },
  {
   "cell_type": "code",
   "execution_count": 26,
   "id": "9f239e80",
   "metadata": {},
   "outputs": [
    {
     "name": "stdout",
     "output_type": "stream",
     "text": [
      "[[ 9.99962891e-01  8.60077751e-03 -4.93489405e-04  2.13881471e-01]\n",
      " [-8.60241980e-03  9.99957121e-01 -3.42834949e-03  2.63334986e-02]\n",
      " [ 4.63981774e-04  3.43246747e-03  9.99994001e-01 -5.48728902e-03]\n",
      " [ 0.00000000e+00  0.00000000e+00  0.00000000e+00  1.00000000e+00]]\n"
     ]
    }
   ],
   "source": [
    "print(extrinsic_cam2)"
   ]
  }
 ],
 "metadata": {
  "kernelspec": {
   "display_name": "underwater_tracking",
   "language": "python",
   "name": "python3"
  },
  "language_info": {
   "codemirror_mode": {
    "name": "ipython",
    "version": 3
   },
   "file_extension": ".py",
   "mimetype": "text/x-python",
   "name": "python",
   "nbconvert_exporter": "python",
   "pygments_lexer": "ipython3",
   "version": "3.8.20"
  }
 },
 "nbformat": 4,
 "nbformat_minor": 5
}
