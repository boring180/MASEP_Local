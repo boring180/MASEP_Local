{
 "cells": [
  {
   "cell_type": "code",
   "execution_count": 10,
   "id": "1c47f022",
   "metadata": {},
   "outputs": [],
   "source": [
    "import numpy as np"
   ]
  },
  {
   "cell_type": "code",
   "execution_count": 18,
   "id": "21b667e0",
   "metadata": {},
   "outputs": [],
   "source": [
    "mtx_cam0 = np.load('results/mtx_cam0.npy')\n",
    "dist_cam0 = np.load('results/dist_cam0.npy')\n",
    "mtx_cam1 = np.load('results/mtx_cam1.npy')\n",
    "dist_cam1 = np.load('results/dist_cam1.npy')\n",
    "mtx_cam2 = np.load('results/mtx_wide.npy')\n",
    "dist_cam2 = np.load('results/dist_wide.npy')"
   ]
  },
  {
   "cell_type": "code",
   "execution_count": 19,
   "id": "9f239e80",
   "metadata": {},
   "outputs": [
    {
     "name": "stdout",
     "output_type": "stream",
     "text": [
      "[[592.04570091   0.         325.03224769]\n",
      " [  0.         594.05175868 310.73560434]\n",
      " [  0.           0.           1.        ]]\n",
      "[[ 2.37538086e+00 -5.14360466e+00 -1.92817425e-03  2.82830815e-03\n",
      "   2.61750144e+01  2.24060096e+00 -4.42896840e+00  2.56932430e+01\n",
      "   0.00000000e+00  0.00000000e+00  0.00000000e+00  0.00000000e+00\n",
      "   0.00000000e+00  0.00000000e+00]]\n"
     ]
    }
   ],
   "source": [
    "print(mtx_cam0)\n",
    "print(dist_cam0)"
   ]
  }
 ],
 "metadata": {
  "kernelspec": {
   "display_name": "underwater_tracking",
   "language": "python",
   "name": "python3"
  },
  "language_info": {
   "codemirror_mode": {
    "name": "ipython",
    "version": 3
   },
   "file_extension": ".py",
   "mimetype": "text/x-python",
   "name": "python",
   "nbconvert_exporter": "python",
   "pygments_lexer": "ipython3",
   "version": "3.8.20"
  }
 },
 "nbformat": 4,
 "nbformat_minor": 5
}
