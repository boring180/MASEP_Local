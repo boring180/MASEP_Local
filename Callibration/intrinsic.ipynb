{
 "cells": [
  {
   "cell_type": "code",
   "execution_count": 30,
   "metadata": {},
   "outputs": [],
   "source": [
    "import cv2\n",
    "import numpy as np\n",
    "import glob\n",
    "import json\n",
    "import os\n",
    "\n",
    "number_of_squares_x = 11\n",
    "number_of_internal_corners_x = number_of_squares_x - 1\n",
    "number_of_squares_y = 8\n",
    "number_of_internal_corners_y = number_of_squares_y - 1\n",
    "square_size = 0.023 # in meters"
   ]
  },
  {
   "cell_type": "code",
   "execution_count": 31,
   "metadata": {},
   "outputs": [],
   "source": [
    "# termination criteria\n",
    "criteria = (cv2.TERM_CRITERIA_EPS + cv2.TERM_CRITERIA_MAX_ITER, 30, 0.001)\n",
    "\n",
    "# prepare object points, like (0,0,0), (1,0,0), (2,0,0) ....,(9,6,0)\n",
    "objp = np.zeros((number_of_internal_corners_x * number_of_internal_corners_y,3), np.float32)\n",
    "objp[:,:2] = np.mgrid[0:number_of_internal_corners_x,0:number_of_internal_corners_y].T.reshape(-1,2)"
   ]
  },
  {
   "cell_type": "code",
   "execution_count": 32,
   "metadata": {},
   "outputs": [],
   "source": [
    "def intrinsic_calibration(camera_name):\n",
    "    # Arrays to store object points and image points from all the images.\n",
    "    objpoints = [] # 3d point in real world space\n",
    "    imgpoints = [] # 2d points in image plane.\n",
    "\n",
    "    images = glob.glob('screen_shots/*.png')\n",
    "\n",
    "    shape = (0,0)\n",
    "\n",
    "    effective_chessboard_count = 0\n",
    "    total_chessboard_count = 0\n",
    "\n",
    "    for fname in images:\n",
    "        fname_parts = fname.split('/')[1].split('_')\n",
    "        if fname_parts[0] != camera_name:\n",
    "            continue\n",
    "        img = cv2.imread(fname)\n",
    "        gray = cv2.cvtColor(img, cv2.COLOR_BGR2GRAY)\n",
    "        shape = gray.shape[::-1]\n",
    "\n",
    "        # Find the chess board corners\n",
    "        ret, corners = cv2.findChessboardCorners(gray, (number_of_internal_corners_x,number_of_internal_corners_y), None)\n",
    "        \n",
    "        if ret == True:\n",
    "            objpoints.append(objp)\n",
    "            imgpoints.append(corners)\n",
    "            # print(f'{fname} pattern found')\n",
    "            effective_chessboard_count += 1\n",
    "        else:\n",
    "            # print(f'{fname} pattern not found')\n",
    "            pass\n",
    "            \n",
    "        total_chessboard_count += 1\n",
    "\n",
    "    if (effective_chessboard_count < 10):\n",
    "        raise ValueError(f'Not enough effective chessboard found: {effective_chessboard_count}/{total_chessboard_count}')\n",
    "\n",
    "    ret, mtx, dist, rvecs, tvecs = cv2.calibrateCamera(objpoints, imgpoints, shape, None, None)\n",
    "\n",
    "    print(f'Camera matrix: {mtx}')\n",
    "    print(f'Distortion coefficients: {dist}')\n",
    "    print(f'Effective Chessboard: {effective_chessboard_count}/{total_chessboard_count}')\n",
    "\n",
    "    with open(f'results/calibration_{camera_name}.json', 'w') as f:\n",
    "        json.dump({'mtx': mtx.tolist(), 'dist': dist.tolist()}, f)"
   ]
  },
  {
   "cell_type": "code",
   "execution_count": 33,
   "metadata": {},
   "outputs": [
    {
     "name": "stdout",
     "output_type": "stream",
     "text": [
      "Camera matrix: [[852.92006731   0.         319.04352479]\n",
      " [  0.         860.33372762 240.28107357]\n",
      " [  0.           0.           1.        ]]\n",
      "Distortion coefficients: [[ 8.58182086e-01 -1.11999357e+01  6.25391411e-02 -2.25347230e-02\n",
      "   3.68946777e+01]]\n",
      "Effective Chessboard: 17/28\n",
      "Camera matrix: [[758.20435017   0.         304.88067183]\n",
      " [  0.         798.39907757 154.93900572]\n",
      " [  0.           0.           1.        ]]\n",
      "Distortion coefficients: [[ 1.29269789e-01  2.60402407e+00 -4.63226859e-02  6.18630846e-03\n",
      "  -8.40821248e+00]]\n",
      "Effective Chessboard: 21/28\n",
      "Camera matrix: [[623.21217981   0.         325.81564993]\n",
      " [  0.         604.00086592 247.35197019]\n",
      " [  0.           0.           1.        ]]\n",
      "Distortion coefficients: [[ 1.31395540e+00 -8.02159156e+00 -1.50516298e-02  1.41082988e-02\n",
      "  -1.80294497e+01]]\n",
      "Effective Chessboard: 27/28\n",
      "Camera matrix: [[750.83807107   0.         327.92656874]\n",
      " [  0.         763.10662395 168.33279003]\n",
      " [  0.           0.           1.        ]]\n",
      "Distortion coefficients: [[ 0.15332697  1.00081285 -0.0278956   0.02006776 -4.07774114]]\n",
      "Effective Chessboard: 20/28\n",
      "Camera matrix: [[854.82311257   0.         283.50593983]\n",
      " [  0.         845.13336579 218.49481377]\n",
      " [  0.           0.           1.        ]]\n",
      "Distortion coefficients: [[ 7.89164402e-01 -1.41928125e+01  4.37438307e-02  6.66974988e-02\n",
      "   6.84854358e+01]]\n",
      "Effective Chessboard: 12/28\n"
     ]
    }
   ],
   "source": [
    "cameras = ['cam1', 'cam2', 'cam3', 'cam4', 'cam5']\n",
    "for camera in cameras:\n",
    "    intrinsic_calibration(camera)"
   ]
  }
 ],
 "metadata": {
  "kernelspec": {
   "display_name": "underwater_tracking",
   "language": "python",
   "name": "python3"
  },
  "language_info": {
   "codemirror_mode": {
    "name": "ipython",
    "version": 3
   },
   "file_extension": ".py",
   "mimetype": "text/x-python",
   "name": "python",
   "nbconvert_exporter": "python",
   "pygments_lexer": "ipython3",
   "version": "3.8.20"
  }
 },
 "nbformat": 4,
 "nbformat_minor": 2
}
