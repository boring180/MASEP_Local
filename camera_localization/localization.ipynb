{
 "cells": [
  {
   "cell_type": "code",
   "execution_count": 23,
   "id": "632253f4",
   "metadata": {},
   "outputs": [],
   "source": [
    "import cv2\n",
    "import numpy as np\n",
    "import os\n",
    "import sys\n",
    "import json\n",
    "from scipy.spatial.transform import Rotation as R\n",
    "sys.path.append(os.path.dirname(os.path.abspath('.')))\n",
    "\n",
    "import utils.frame_slicing as frame_slicing\n",
    "import utils.frame_concatent as frame_concatent\n",
    "\n",
    "video_path = '../video/test1.mp4'\n",
    "callibration_path = '../Callibration/results/'\n",
    "cameras = ['cam2', 'cam3', 'wide', 'cam0', 'cam1']\n",
    "SQUARE_SIZE = 0.023 # in meters"
   ]
  },
  {
   "cell_type": "code",
   "execution_count": null,
   "id": "cc6ad4aa",
   "metadata": {},
   "outputs": [],
   "source": [
    "def raw_localization(frame):\n",
    "    frames = frame_slicing.slicing_frame(frame)\n",
    "    mtxs = {}\n",
    "    dists = {}\n",
    "    results = {}\n",
    "    for camera_name in cameras:\n",
    "        with open(f'{callibration_path}/intrinsic_{camera_name}.json', 'r') as f:\n",
    "            data = json.load(f)\n",
    "            mtx = np.array(data['mtx'])\n",
    "            dist = np.array(data['dist'])\n",
    "            mtxs[cameras[cameras.index(camera_name)]] = mtx\n",
    "            dists[cameras[cameras.index(camera_name)]] = dist\n",
    "            \n",
    "        aruco_dict = cv2.aruco.getPredefinedDictionary(cv2.aruco.DICT_5X5_1000)\n",
    "        parameters = cv2.aruco.DetectorParameters()\n",
    "        detector = cv2.aruco.ArucoDetector(aruco_dict, parameters)\n",
    "        corners, ids, _ = detector.detectMarkers(frames[cameras.index(camera_name)])\n",
    "        if ids is not None:\n",
    "            rvecs, tvecs, _ = cv2.aruco.estimatePoseSingleMarkers(corners, SQUARE_SIZE, mtx, dist)\n",
    "\n",
    "            transformation_matrix = np.eye(4)\n",
    "            transformation_matrix[:3, :3] = R.from_rotvec(rvecs[0]).as_matrix()\n",
    "            transformation_matrix[:3, 3] = tvecs[0]\n",
    "            results[cameras[cameras.index(camera_name)]] = transformation_matrix\n",
    "            \n",
    "    return results"
   ]
  },
  {
   "cell_type": "markdown",
   "id": "27cc7ebe",
   "metadata": {},
   "source": [
    "# Localization"
   ]
  },
  {
   "cell_type": "code",
   "execution_count": 25,
   "id": "3cdd2c40",
   "metadata": {},
   "outputs": [
    {
     "name": "stdout",
     "output_type": "stream",
     "text": [
      "{}\n",
      "{}\n",
      "{}\n",
      "{}\n",
      "{}\n",
      "{}\n",
      "{}\n",
      "{}\n",
      "{}\n",
      "{}\n",
      "{}\n",
      "{}\n",
      "{}\n",
      "{}\n",
      "{}\n",
      "{}\n",
      "{}\n",
      "{}\n",
      "{}\n",
      "{}\n",
      "{}\n",
      "{}\n",
      "{}\n",
      "{}\n",
      "{}\n",
      "{}\n",
      "{}\n",
      "{}\n",
      "{}\n",
      "{}\n",
      "{}\n",
      "{}\n",
      "{}\n",
      "{}\n",
      "{}\n",
      "{}\n",
      "{}\n",
      "{}\n",
      "{}\n",
      "{}\n",
      "{}\n",
      "{}\n",
      "{}\n",
      "{}\n",
      "{}\n",
      "{}\n",
      "{}\n",
      "{}\n",
      "{}\n",
      "{}\n",
      "{}\n",
      "{}\n",
      "{}\n",
      "{}\n",
      "{}\n",
      "{}\n",
      "{}\n",
      "{}\n",
      "{}\n"
     ]
    },
    {
     "ename": "AttributeError",
     "evalue": "module 'cv2.aruco' has no attribute 'estimatePoseSingleMarkers'",
     "output_type": "error",
     "traceback": [
      "\u001b[0;31m---------------------------------------------------------------------------\u001b[0m",
      "\u001b[0;31mAttributeError\u001b[0m                            Traceback (most recent call last)",
      "Cell \u001b[0;32mIn[25], line 10\u001b[0m\n\u001b[1;32m      7\u001b[0m \u001b[38;5;28;01mif\u001b[39;00m \u001b[38;5;129;01mnot\u001b[39;00m ret:\n\u001b[1;32m      8\u001b[0m     \u001b[38;5;28;01mbreak\u001b[39;00m\n\u001b[0;32m---> 10\u001b[0m \u001b[38;5;28mprint\u001b[39m(\u001b[43mraw_localization\u001b[49m\u001b[43m(\u001b[49m\u001b[43mframe\u001b[49m\u001b[43m)\u001b[49m)\n\u001b[1;32m     12\u001b[0m time_stamp \u001b[38;5;241m+\u001b[39m\u001b[38;5;241m=\u001b[39m \u001b[38;5;241m1\u001b[39m\n\u001b[1;32m     13\u001b[0m count \u001b[38;5;241m+\u001b[39m\u001b[38;5;241m=\u001b[39m \u001b[38;5;241m1\u001b[39m\n",
      "Cell \u001b[0;32mIn[24], line 19\u001b[0m, in \u001b[0;36mraw_localization\u001b[0;34m(frame)\u001b[0m\n\u001b[1;32m     17\u001b[0m corners, ids, _ \u001b[38;5;241m=\u001b[39m detector\u001b[38;5;241m.\u001b[39mdetectMarkers(frames[cameras\u001b[38;5;241m.\u001b[39mindex(camera_name)])\n\u001b[1;32m     18\u001b[0m \u001b[38;5;28;01mif\u001b[39;00m ids \u001b[38;5;129;01mis\u001b[39;00m \u001b[38;5;129;01mnot\u001b[39;00m \u001b[38;5;28;01mNone\u001b[39;00m:\n\u001b[0;32m---> 19\u001b[0m     rvecs, tvecs, _ \u001b[38;5;241m=\u001b[39m \u001b[43mcv2\u001b[49m\u001b[38;5;241;43m.\u001b[39;49m\u001b[43maruco\u001b[49m\u001b[38;5;241;43m.\u001b[39;49m\u001b[43mestimatePoseSingleMarkers\u001b[49m(corners, SQUARE_SIZE, mtx, dist)\n\u001b[1;32m     21\u001b[0m     transformation_matrix \u001b[38;5;241m=\u001b[39m np\u001b[38;5;241m.\u001b[39meye(\u001b[38;5;241m4\u001b[39m)\n\u001b[1;32m     22\u001b[0m     transformation_matrix[:\u001b[38;5;241m3\u001b[39m, :\u001b[38;5;241m3\u001b[39m] \u001b[38;5;241m=\u001b[39m R\u001b[38;5;241m.\u001b[39mfrom_rotvec(rvecs[\u001b[38;5;241m0\u001b[39m])\u001b[38;5;241m.\u001b[39mas_matrix()\n",
      "\u001b[0;31mAttributeError\u001b[0m: module 'cv2.aruco' has no attribute 'estimatePoseSingleMarkers'"
     ]
    }
   ],
   "source": [
    "time_stamp = 0\n",
    "cap = cv2.VideoCapture(video_path)\n",
    "\n",
    "count = 0\n",
    "while True:\n",
    "    ret, frame = cap.read()\n",
    "    if not ret:\n",
    "        break\n",
    "\n",
    "    print(raw_localization(frame))\n",
    "\n",
    "    time_stamp += 1\n",
    "    count += 1\n",
    "\n",
    "cap.release()"
   ]
  }
 ],
 "metadata": {
  "kernelspec": {
   "display_name": "underwater_tracking",
   "language": "python",
   "name": "python3"
  },
  "language_info": {
   "codemirror_mode": {
    "name": "ipython",
    "version": 3
   },
   "file_extension": ".py",
   "mimetype": "text/x-python",
   "name": "python",
   "nbconvert_exporter": "python",
   "pygments_lexer": "ipython3",
   "version": "3.8.20"
  }
 },
 "nbformat": 4,
 "nbformat_minor": 5
}
