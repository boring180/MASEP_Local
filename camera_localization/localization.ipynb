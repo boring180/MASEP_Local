{
 "cells": [
  {
   "cell_type": "code",
   "execution_count": null,
   "id": "632253f4",
   "metadata": {},
   "outputs": [],
   "source": [
    "import cv2\n",
    "import numpy as np\n",
    "import os\n",
    "import sys\n",
    "sys.path.append(os.path.dirname(os.path.abspath('.')))\n",
    "\n",
    "import utils.frame_slicing as frame_slicing\n",
    "import utils.frame_concatent as frame_concatent\n",
    "\n",
    "video_name = '../video/test1.mp4'\n",
    "callibration_path = '../Callibration/results'\n",
    "cameras = ['cam2', 'cam3', 'wide', 'cam0', 'cam1']"
   ]
  },
  {
   "cell_type": "code",
   "execution_count": null,
   "id": "cc6ad4aa",
   "metadata": {},
   "outputs": [],
   "source": [
    "def raw_localization():\n",
    "    mtxs = {}\n",
    "    dists = {}\n",
    "    for camera_name in cameras:\n",
    "        with open(f'results/intrinsic_{cameras[i]}.json', 'r') as f:\n",
    "            data = json.load(f)\n",
    "            mtx = np.array(data['mtx'])\n",
    "            dist = np.array(data['dist'])\n",
    "            mtxs[cameras[i]] = mtx\n",
    "            dists[cameras[i]] = dist\n",
    "            \n",
    "            \n",
    "            \n",
    "            "
   ]
  }
 ],
 "metadata": {
  "kernelspec": {
   "display_name": "underwater_tracking",
   "language": "python",
   "name": "python3"
  },
  "language_info": {
   "name": "python",
   "version": "3.8.20"
  }
 },
 "nbformat": 4,
 "nbformat_minor": 5
}
