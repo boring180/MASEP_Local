{
 "cells": [
  {
   "cell_type": "code",
   "execution_count": 5,
   "metadata": {},
   "outputs": [
    {
     "name": "stdout",
     "output_type": "stream",
     "text": [
      "['../video/cam1_20250916_113206.mp4', '../video/cam2_20250916_113358.mp4', '../video/cam0_20250916_113002.mp4']\n"
     ]
    }
   ],
   "source": [
    "import cv2\n",
    "import numpy as np\n",
    "import os\n",
    "import sys\n",
    "sys.path.append(os.path.dirname(os.path.abspath('.')))\n",
    "from utils.frame_slicing import slicing_frame3_1, slicing_frame3_2\n",
    "from utils.frame_concatent import concatent_frame3_1, concatent_frame3_2\n",
    "import tqdm\n",
    "import glob\n",
    "\n",
    "video_path = '../video'\n",
    "video_path_list = [os.path.join(video_path, f) for f in os.listdir(video_path) if f.endswith('.mp4')]\n",
    "print(video_path_list)"
   ]
  },
  {
   "cell_type": "code",
   "execution_count": 6,
   "metadata": {},
   "outputs": [
    {
     "name": "stderr",
     "output_type": "stream",
     "text": [
      "100%|██████████| 1064/1064 [00:02<00:00, 374.76it/s]\n",
      "100%|██████████| 1303/1303 [00:03<00:00, 410.63it/s]\n",
      "100%|██████████| 747/747 [00:01<00:00, 395.91it/s]\n"
     ]
    }
   ],
   "source": [
    "path = '../photos/single_camera'\n",
    "\n",
    "os.makedirs(f\"{path}\", exist_ok=True)\n",
    "\n",
    "for video_path in video_path_list:\n",
    "    time_stamp = 0\n",
    "    cap = cv2.VideoCapture(video_path)\n",
    "\n",
    "    capture_per_frame = 10\n",
    "    count = 0\n",
    "    \n",
    "    total_frames = int(cap.get(cv2.CAP_PROP_FRAME_COUNT))\n",
    "\n",
    "    for _ in tqdm.tqdm(range(total_frames)):\n",
    "        ret, frame = cap.read()\n",
    "        if not ret:\n",
    "            break\n",
    "        if count % capture_per_frame == 0:\n",
    "            frame_split = slicing_frame3_1(frame)\n",
    "            frame = concatent_frame3_1(frame_split)\n",
    "            cv2.imwrite(f\"{path}/{video_path.split('/')[-1].split('.')[0]}{time_stamp}.jpg\", frame)\n",
    "        time_stamp += 1\n",
    "        count += 1\n",
    "\n",
    "    cap.release()"
   ]
  },
  {
   "cell_type": "code",
   "execution_count": 8,
   "metadata": {},
   "outputs": [],
   "source": [
    "if os.path.exists(f'{path}'):\n",
    "    for image in os.listdir(f'{path}'):\n",
    "        os.remove(f'{path}/{image}')\n",
    "    "
   ]
  }
 ],
 "metadata": {
  "kernelspec": {
   "display_name": "underwater_tracking",
   "language": "python",
   "name": "python3"
  },
  "language_info": {
   "codemirror_mode": {
    "name": "ipython",
    "version": 3
   },
   "file_extension": ".py",
   "mimetype": "text/x-python",
   "name": "python",
   "nbconvert_exporter": "python",
   "pygments_lexer": "ipython3",
   "version": "3.8.20"
  }
 },
 "nbformat": 4,
 "nbformat_minor": 2
}
