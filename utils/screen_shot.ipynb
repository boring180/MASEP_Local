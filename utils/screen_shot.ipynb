{
 "cells": [
  {
   "cell_type": "code",
   "execution_count": 5,
   "metadata": {},
   "outputs": [],
   "source": [
    "import cv2\n",
    "import numpy as np\n",
    "import os\n",
    "import sys\n",
    "sys.path.append(os.path.dirname(os.path.abspath('.')))\n",
    "import utils.frame_slicing as frame_slicing\n",
    "import utils.frame_concatent as frame_concatent\n",
    "\n",
    "video_path_list = [\"../video/calibration+aruco_on_water.mp4\", \"../video/calibration1.mp4\", \"../video/calibration2.mp4\"]    "
   ]
  },
  {
   "cell_type": "code",
   "execution_count": 6,
   "metadata": {},
   "outputs": [],
   "source": [
    "os.makedirs(f\"../Callibration/screen_shots\", exist_ok=True)\n",
    "\n",
    "for video_path in video_path_list:\n",
    "    time_stamp = 0\n",
    "    cap = cv2.VideoCapture(video_path)\n",
    "\n",
    "    capture_per_frame = 25\n",
    "    count = 0\n",
    "\n",
    "    while True:\n",
    "        ret, frame = cap.read()\n",
    "        if not ret:\n",
    "            break\n",
    "        if count % capture_per_frame == 0:\n",
    "            frame_split = frame_slicing.slicing_frame(frame)\n",
    "            frame0 = cv2.rotate(frame_split[0], cv2.ROTATE_90_COUNTERCLOCKWISE)\n",
    "            frame1 = cv2.rotate(frame_split[1], cv2.ROTATE_90_CLOCKWISE)\n",
    "            frame3 = cv2.rotate(frame_split[3], cv2.ROTATE_180)\n",
    "            frame = frame_concatent.concatent_frame([frame0, frame1, frame_split[2], frame3, frame_split[4], frame_split[5]])\n",
    "            cv2.imwrite(f\"../Callibration/screen_shots/{video_path.split('/')[-1].split('.')[0]}{time_stamp}.png\", frame)\n",
    "        time_stamp += 1\n",
    "        count += 1\n",
    "\n",
    "    cap.release()"
   ]
  }
 ],
 "metadata": {
  "kernelspec": {
   "display_name": "underwater_tracking",
   "language": "python",
   "name": "python3"
  },
  "language_info": {
   "codemirror_mode": {
    "name": "ipython",
    "version": 3
   },
   "file_extension": ".py",
   "mimetype": "text/x-python",
   "name": "python",
   "nbconvert_exporter": "python",
   "pygments_lexer": "ipython3",
   "version": "3.8.20"
  }
 },
 "nbformat": 4,
 "nbformat_minor": 2
}
