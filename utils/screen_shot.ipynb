{
 "cells": [
  {
   "cell_type": "code",
   "execution_count": 53,
   "metadata": {},
   "outputs": [
    {
     "name": "stdout",
     "output_type": "stream",
     "text": [
      "['../video/20251028_185231.mp4', '../video/cam1_.mp4', '../video/cam0_.mp4', '../video/20251028_185124.mp4', '../video/cam2_.mp4']\n"
     ]
    }
   ],
   "source": [
    "import cv2\n",
    "import numpy as np\n",
    "import os\n",
    "import sys\n",
    "sys.path.append(os.path.dirname(os.path.abspath('.')))\n",
    "from utils.frame_slicing import slicing_frame3_1, slicing_frame3_2\n",
    "from utils.frame_concatent import concatent_frame3_1, concatent_frame3_2, resize_with_padding\n",
    "import tqdm\n",
    "import glob\n",
    "\n",
    "video_path = '../video'\n",
    "video_path_list = [os.path.join(video_path, f) for f in os.listdir(video_path) if f.endswith('.mp4')]\n",
    "print(video_path_list)\n",
    "\n",
    "# path = '../photos/single_camera'\n",
    "path = '../photos/multi_camera'"
   ]
  },
  {
   "cell_type": "code",
   "execution_count": 50,
   "metadata": {},
   "outputs": [],
   "source": [
    "if os.path.exists(f'{path}'):\n",
    "    for image in os.listdir(f'{path}'):\n",
    "        os.remove(f'{path}/{image}')"
   ]
  },
  {
   "cell_type": "code",
   "execution_count": 54,
   "metadata": {},
   "outputs": [
    {
     "name": "stdout",
     "output_type": "stream",
     "text": [
      "../video/20251028_185124.mp4\n"
     ]
    },
    {
     "name": "stderr",
     "output_type": "stream",
     "text": [
      "100%|██████████| 334/334 [00:04<00:00, 80.40it/s]\n"
     ]
    }
   ],
   "source": [
    "os.makedirs(f\"{path}\", exist_ok=True)\n",
    "\n",
    "video_path_list = [video_path_list[3]]\n",
    "\n",
    "for video_path in video_path_list:\n",
    "    print(video_path)\n",
    "    time_stamp = 0\n",
    "    cap = cv2.VideoCapture(video_path)\n",
    "\n",
    "    capture_per_frame = 5\n",
    "    count = 0\n",
    "    \n",
    "    total_frames = int(cap.get(cv2.CAP_PROP_FRAME_COUNT))\n",
    "\n",
    "    for _ in tqdm.tqdm(range(total_frames)):\n",
    "        ret, frame = cap.read()\n",
    "\n",
    "        size = frame.shape\n",
    "        # frame = frame[:,size[1]//3*2:size[1]//3*3]\n",
    "\n",
    "        if not ret:\n",
    "            break\n",
    "        if count % capture_per_frame == 0:\n",
    "            cv2.imwrite(f\"{path}/{video_path.split('/')[-1].split('.')[0]}{time_stamp}.jpg\", frame)\n",
    "        time_stamp += 1\n",
    "        count += 1\n",
    "\n",
    "    cap.release()"
   ]
  }
 ],
 "metadata": {
  "kernelspec": {
   "display_name": "underwater_tracking",
   "language": "python",
   "name": "python3"
  },
  "language_info": {
   "codemirror_mode": {
    "name": "ipython",
    "version": 3
   },
   "file_extension": ".py",
   "mimetype": "text/x-python",
   "name": "python",
   "nbconvert_exporter": "python",
   "pygments_lexer": "ipython3",
   "version": "3.8.20"
  }
 },
 "nbformat": 4,
 "nbformat_minor": 2
}
