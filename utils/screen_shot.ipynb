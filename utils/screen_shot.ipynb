{
 "cells": [
  {
   "cell_type": "code",
   "execution_count": 6,
   "metadata": {},
   "outputs": [],
   "source": [
    "import cv2\n",
    "import numpy as np\n",
    "import os\n",
    "import sys\n",
    "sys.path.append(os.path.dirname(os.path.abspath('.')))\n",
    "from utils.frame_slicing import slicing_frame3_1, slicing_frame3_2\n",
    "from utils.frame_concatent import concatent_frame3_1, concatent_frame3_2\n",
    "\n",
    "video_path = '../video'\n",
    "video_path_list = [os.path.join(video_path, f) for f in os.listdir(video_path) if f.endswith('.mp4')]"
   ]
  },
  {
   "cell_type": "code",
   "execution_count": null,
   "metadata": {},
   "outputs": [],
   "source": [
    "path = '../photos/multi_camera'\n",
    "\n",
    "os.makedirs(f\"{path}\", exist_ok=True)\n",
    "\n",
    "for video_path in video_path_list:\n",
    "    time_stamp = 0\n",
    "    cap = cv2.VideoCapture(video_path)\n",
    "\n",
    "    capture_per_frame = 25\n",
    "    count = 0\n",
    "\n",
    "    while True:\n",
    "        ret, frame = cap.read()\n",
    "        if not ret:\n",
    "            break\n",
    "        if count % capture_per_frame == 0:\n",
    "            frame_split = slicing_frame3_2(frame)\n",
    "            frame0 = cv2.rotate(frame_split[0], cv2.ROTATE_90_COUNTERCLOCKWISE)\n",
    "            frame1 = cv2.rotate(frame_split[1], cv2.ROTATE_90_CLOCKWISE)\n",
    "            frame3 = cv2.rotate(frame_split[3], cv2.ROTATE_180)\n",
    "            frame = concatent_frame3_2([frame0, frame1, frame_split[2], frame3, frame_split[4], frame_split[5]])\n",
    "            cv2.imwrite(f\"{path}/{video_path.split('/')[-1].split('.')[0]}{time_stamp}.jpg\", frame)\n",
    "        time_stamp += 1\n",
    "        count += 1\n",
    "\n",
    "    cap.release()"
   ]
  },
  {
   "cell_type": "code",
   "execution_count": 8,
   "metadata": {},
   "outputs": [],
   "source": [
    "path = '../photos/multi_camera'\n",
    "\n",
    "os.makedirs(f\"{path}\", exist_ok=True)\n",
    "\n",
    "video_list = os.listdir(video_path)\n",
    "\n",
    "for video_name in video_list:\n",
    "    if video_name.split('.')[-1] != 'mp4':\n",
    "        continue\n",
    "    video_name_without_extension = video_name.split('.')[0]\n",
    "    cap = cv2.VideoCapture(f'{video_path}/{video_name}')\n",
    "    frame_count = 0\n",
    "    while True:\n",
    "        ret, frame = cap.read()\n",
    "        if not ret:\n",
    "            break\n",
    "        if frame_count % 25 == 0:\n",
    "            time_stamp = frame_count // 25 + 1\n",
    "            frames = slicing_frame3_1(frame)\n",
    "            frames[2] = cv2.rotate(frames[2], cv2.ROTATE_180)\n",
    "            frame = concatent_frame3_1(frames)\n",
    "            cv2.imwrite(f'{path}/{video_name_without_extension}_{time_stamp}.jpg', frame)\n",
    "        frame_count += 1\n",
    "    cap.release()"
   ]
  }
 ],
 "metadata": {
  "kernelspec": {
   "display_name": "underwater_tracking",
   "language": "python",
   "name": "python3"
  },
  "language_info": {
   "codemirror_mode": {
    "name": "ipython",
    "version": 3
   },
   "file_extension": ".py",
   "mimetype": "text/x-python",
   "name": "python",
   "nbconvert_exporter": "python",
   "pygments_lexer": "ipython3",
   "version": "3.8.20"
  }
 },
 "nbformat": 4,
 "nbformat_minor": 2
}
