{
 "cells": [
  {
   "cell_type": "code",
   "execution_count": 1,
   "metadata": {},
   "outputs": [],
   "source": [
    "import cv2\n",
    "import numpy as np\n",
    "import os\n",
    "import sys\n",
    "sys.path.append(os.path.dirname(os.path.abspath('.')))\n",
    "\n",
    "from utils import frame_slicing\n",
    "\n",
    "video_path = \"../video/calibration+aruco_on_water.mp4\""
   ]
  },
  {
   "cell_type": "code",
   "execution_count": 2,
   "metadata": {},
   "outputs": [
    {
     "ename": "",
     "evalue": "",
     "output_type": "error",
     "traceback": [
      "\u001b[1;31mThe Kernel crashed while executing code in the current cell or a previous cell. \n",
      "\u001b[1;31mPlease review the code in the cell(s) to identify a possible cause of the failure. \n",
      "\u001b[1;31mClick <a href='https://aka.ms/vscodeJupyterKernelCrash'>here</a> for more info. \n",
      "\u001b[1;31mView Jupyter <a href='command:jupyter.viewOutput'>log</a> for further details."
     ]
    }
   ],
   "source": [
    "time_stamp = 0\n",
    "cap = cv2.VideoCapture(video_path)\n",
    "\n",
    "try:\n",
    "    while True:\n",
    "        ret, frame = cap.read()\n",
    "        if not ret:\n",
    "            break\n",
    "        cv2.imshow(\"frame\", frame)\n",
    "        cv2.waitKey(1)\n",
    "        if cv2.waitKey(1) & 0xFF == ord('q'):\n",
    "            break\n",
    "        if cv2.waitKey(1) & 0xFF == ord('s'):\n",
    "            cam1, cam2, cam3, cam4, cam5, cam6 = frame_slicing.slicing_frame(frame)\n",
    "            # The order of the camera is 2, 3, wide, 0, 1\n",
    "            cv2.imwrite(f\"../Callibration/screen_shots/cam1_{time_stamp}.png\", cam1)\n",
    "            cv2.imwrite(f\"../Callibration/screen_shots/cam2_{time_stamp}.png\", cam2)\n",
    "            cv2.imwrite(f\"../Callibration/screen_shots/cam3_{time_stamp}.png\", cam3)\n",
    "            cv2.imwrite(f\"../Callibration/screen_shots/cam4_{time_stamp}.png\", cam4)\n",
    "            cv2.imwrite(f\"../Callibration/screen_shots/cam5_{time_stamp}.png\", cam5)\n",
    "        time_stamp += 1\n",
    "except Exception as e:\n",
    "    print(e)\n",
    "finally:\n",
    "    cap.release()\n",
    "cv2.destroyAllWindows()"
   ]
  }
 ],
 "metadata": {
  "kernelspec": {
   "display_name": "underwater_tracking",
   "language": "python",
   "name": "python3"
  },
  "language_info": {
   "codemirror_mode": {
    "name": "ipython",
    "version": 3
   },
   "file_extension": ".py",
   "mimetype": "text/x-python",
   "name": "python",
   "nbconvert_exporter": "python",
   "pygments_lexer": "ipython3",
   "version": "3.8.20"
  }
 },
 "nbformat": 4,
 "nbformat_minor": 2
}
